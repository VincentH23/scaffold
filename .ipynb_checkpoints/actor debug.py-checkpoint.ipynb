{
 "cells": [
  {
   "cell_type": "code",
   "execution_count": null,
   "metadata": {
    "tags": []
   },
   "outputs": [
    {
     "name": "stderr",
     "output_type": "stream",
     "text": [
      "Using backend: pytorch\n"
     ]
    }
   ],
   "source": [
    "from actor import *"
   ]
  },
  {
   "cell_type": "code",
   "execution_count": 2,
   "metadata": {
    "collapsed": false,
    "jupyter": {
     "outputs_hidden": false
    },
    "pycharm": {
     "name": "#%%\n"
    }
   },
   "outputs": [],
   "source": [
    "from MARS.common.nn import masked_softmax\n",
    "pred = torch.randn(size= (10,7))\n",
    "mask = torch.randint(0,2, size = (10,7))\n",
    "\n",
    "config = {\n",
    "    'device': 'cpu',\n",
    "    'n_atom_feat': 16,\n",
    "    'n_node_hidden': 64,\n",
    "    'n_bond_feat': 4,\n",
    "    'n_edge_hidden': 128,\n",
    "    'n_layers': 6,\n",
    "    'vocab_size': 10,\n",
    "    'batch_size': 128\n",
    "}\n",
    "actor = Actor(config)\n",
    "with open('mol_test.txt', 'r') as f:\n",
    "    mols = f.readlines()\n",
    "\n",
    "mols = [Chem.MolFromSmiles(smi.split(',')[0]) for smi in mols if Chem.MolFromSmiles(smi.split(',')[0])]\n",
    "\n",
    "graphs = [mol_to_dgl(mol) for mol in mols]\n",
    "graphs = dgl.batch(graphs)\n"
   ]
  },
  {
   "cell_type": "code",
   "execution_count": 3,
   "metadata": {},
   "outputs": [],
   "source": [
    "p_act, p_del, p_add, p_arm, p_global=actor.get_prob(graphs)"
   ]
  },
  {
   "cell_type": "code",
   "execution_count": 4,
   "metadata": {},
   "outputs": [
    {
     "data": {
      "text/plain": [
       "[tensor([0.5112, 0.4888], grad_fn=<SqueezeBackward1>),\n",
       " tensor([0.5109, 0.4891], grad_fn=<SqueezeBackward1>),\n",
       " tensor([0.5110, 0.4890], grad_fn=<SqueezeBackward1>),\n",
       " tensor([0.5109, 0.4891], grad_fn=<SqueezeBackward1>),\n",
       " tensor([0.5111, 0.4889], grad_fn=<SqueezeBackward1>),\n",
       " tensor([0.5111, 0.4889], grad_fn=<SqueezeBackward1>),\n",
       " tensor([0.5111, 0.4889], grad_fn=<SqueezeBackward1>),\n",
       " tensor([0.5093, 0.4907], grad_fn=<SqueezeBackward1>),\n",
       " tensor([0.5106, 0.4894], grad_fn=<SqueezeBackward1>),\n",
       " tensor([0.5108, 0.4892], grad_fn=<SqueezeBackward1>),\n",
       " tensor([0.5113, 0.4887], grad_fn=<SqueezeBackward1>),\n",
       " tensor([0.5112, 0.4888], grad_fn=<SqueezeBackward1>),\n",
       " tensor([0.5110, 0.4890], grad_fn=<SqueezeBackward1>)]"
      ]
     },
     "execution_count": 4,
     "metadata": {},
     "output_type": "execute_result"
    }
   ],
   "source": [
    "p_act"
   ]
  },
  {
   "cell_type": "code",
   "execution_count": 4,
   "metadata": {},
   "outputs": [],
   "source": [
    "del_global, add_arm_global =actor.conditional_idx2global_idx(10, 5, 3, p_del[0])"
   ]
  },
  {
   "cell_type": "code",
   "execution_count": 5,
   "metadata": {},
   "outputs": [
    {
     "data": {
      "text/plain": [
       "(10, 121)"
      ]
     },
     "execution_count": 5,
     "metadata": {},
     "output_type": "execute_result"
    }
   ],
   "source": []
  },
  {
   "cell_type": "code",
   "execution_count": 8,
   "metadata": {},
   "outputs": [
    {
     "data": {
      "text/plain": [
       "(10, 5, 3)"
      ]
     },
     "execution_count": 8,
     "metadata": {},
     "output_type": "execute_result"
    }
   ],
   "source": [
    "actor.global_idx2conditional_idx( del_global, add_arm_global, p_del[0])"
   ]
  },
  {
   "cell_type": "code",
   "execution_count": 16,
   "metadata": {},
   "outputs": [],
   "source": [
    "def conditional_to_global(add_idx,arm_idx,del_idx,p_act,p_add,p_arm,p_del,p_act_global):\n",
    "    p_add_cond = (p_act[1]*p_add[add_idx]*p_arm[add_idx,arm_idx]).item()\n",
    "    p_del_cond  = p_act[0]*p_del[del_idx].item()\n",
    "    \n",
    "    add_arm_glob_idx = p_del.shape[0] + add_idx * p_arm.shape[-1] + arm_idx\n",
    "    p_add_global =  p_act_global[add_arm_glob_idx].item()\n",
    "    p_del_global =  p_act_global[del_idx].item()\n",
    "    if p_add_cond != p_add_global :\n",
    "        print(p_add_cond-p_add_global)\n",
    "    assert abs(p_add_cond -p_add_global)<0.00001 \n",
    "    assert p_del_cond == p_del_global\n",
    "    "
   ]
  },
  {
   "cell_type": "code",
   "execution_count": 10,
   "metadata": {},
   "outputs": [
    {
     "data": {
      "text/plain": [
       "(31, 68)"
      ]
     },
     "execution_count": 10,
     "metadata": {},
     "output_type": "execute_result"
    }
   ],
   "source": [
    "n  = dgl.unbatch(graphs)[0].number_of_nodes()\n",
    "e = dgl.unbatch(graphs)[0].number_of_edges()\n",
    "n,e"
   ]
  },
  {
   "cell_type": "code",
   "execution_count": 17,
   "metadata": {},
   "outputs": [
    {
     "name": "stdout",
     "output_type": "stream",
     "text": [
      "2.3283064365386963e-10\n",
      "2.3283064365386963e-10\n",
      "2.3283064365386963e-10\n",
      "2.3283064365386963e-10\n",
      "2.3283064365386963e-10\n",
      "2.3283064365386963e-10\n",
      "2.3283064365386963e-10\n",
      "-2.3283064365386963e-10\n",
      "2.3283064365386963e-10\n",
      "2.3283064365386963e-10\n",
      "2.3283064365386963e-10\n",
      "2.3283064365386963e-10\n",
      "2.3283064365386963e-10\n",
      "2.3283064365386963e-10\n",
      "2.3283064365386963e-10\n",
      "2.3283064365386963e-10\n",
      "2.3283064365386963e-10\n",
      "2.3283064365386963e-10\n",
      "-2.3283064365386963e-10\n",
      "2.3283064365386963e-10\n",
      "2.3283064365386963e-10\n",
      "-2.3283064365386963e-10\n",
      "-2.3283064365386963e-10\n",
      "2.3283064365386963e-10\n",
      "-2.3283064365386963e-10\n",
      "2.3283064365386963e-10\n",
      "-2.3283064365386963e-10\n",
      "-2.3283064365386963e-10\n",
      "-2.3283064365386963e-10\n",
      "-2.3283064365386963e-10\n",
      "-2.3283064365386963e-10\n",
      "-2.3283064365386963e-10\n",
      "-2.3283064365386963e-10\n",
      "-2.3283064365386963e-10\n",
      "2.3283064365386963e-10\n",
      "2.3283064365386963e-10\n",
      "-2.3283064365386963e-10\n",
      "2.3283064365386963e-10\n",
      "2.3283064365386963e-10\n",
      "-2.3283064365386963e-10\n",
      "-2.3283064365386963e-10\n",
      "-2.3283064365386963e-10\n",
      "2.3283064365386963e-10\n",
      "-2.3283064365386963e-10\n",
      "-2.3283064365386963e-10\n",
      "-2.3283064365386963e-10\n",
      "-2.3283064365386963e-10\n",
      "-2.3283064365386963e-10\n",
      "-2.3283064365386963e-10\n",
      "-2.3283064365386963e-10\n",
      "-2.3283064365386963e-10\n",
      "2.3283064365386963e-10\n",
      "2.3283064365386963e-10\n",
      "2.3283064365386963e-10\n",
      "-2.3283064365386963e-10\n",
      "2.3283064365386963e-10\n"
     ]
    }
   ],
   "source": [
    "###### add \n",
    "for add_idx in range(n):\n",
    "    for arm_idx in range(10):\n",
    "        conditional_to_global(add_idx,arm_idx,0,p_act[0],p_add[0],p_arm[0],p_del[0],p_global[0])\n",
    "        \n",
    "        \n",
    "###### del idx \n",
    "\n",
    "for del_idx in range(e):\n",
    "    conditional_to_global(0,0,del_idx,p_act[0],p_add[0],p_arm[0],p_del[0],p_global[0])"
   ]
  },
  {
   "cell_type": "code",
   "execution_count": 15,
   "metadata": {},
   "outputs": [
    {
     "data": {
      "text/plain": [
       "[tensor([0.0522, 0.0000, 0.0524, 0.0523, 0.0523, 0.0524, 0.0000, 0.0000, 0.0524,\n",
       "         0.0000, 0.0529, 0.0000, 0.0000, 0.0529, 0.0529, 0.0000, 0.0000, 0.0525,\n",
       "         0.0000, 0.0529, 0.0529, 0.0000, 0.0000, 0.0529, 0.0529, 0.0529, 0.0529,\n",
       "         0.0529, 0.0000, 0.0523, 0.0523], grad_fn=<SqueezeBackward1>),\n",
       " tensor([0.1104, 0.1102, 0.0000, 0.0000, 0.1114, 0.1115, 0.0000, 0.1107, 0.0000,\n",
       "         0.0000, 0.0000, 0.0000, 0.0000, 0.1115, 0.1114, 0.1114, 0.1115, 0.0000,\n",
       "         0.0000, 0.0000], grad_fn=<SqueezeBackward1>),\n",
       " tensor([0.0665, 0.0000, 0.0669, 0.0669, 0.0000, 0.0000, 0.0669, 0.0000, 0.0664,\n",
       "         0.0000, 0.0669, 0.0669, 0.0000, 0.0000, 0.0669, 0.0000, 0.0000, 0.0000,\n",
       "         0.0663, 0.0661, 0.0000, 0.0661, 0.0663, 0.0000, 0.0669, 0.0669, 0.0000,\n",
       "         0.0669, 0.0000, 0.0000, 0.0000], grad_fn=<SqueezeBackward1>),\n",
       " tensor([0.0000, 0.0000, 0.0000, 0.0771, 0.0000, 0.0000, 0.0771, 0.0000, 0.0000,\n",
       "         0.0762, 0.0765, 0.0000, 0.0771, 0.0771, 0.0771, 0.0000, 0.0771, 0.0771,\n",
       "         0.0000, 0.0000, 0.0765, 0.0000, 0.0771, 0.0770, 0.0000, 0.0000, 0.0000,\n",
       "         0.0000, 0.0770], grad_fn=<SqueezeBackward1>),\n",
       " tensor([0.0497, 0.0000, 0.0000, 0.0503, 0.0000, 0.0000, 0.0498, 0.0497, 0.0000,\n",
       "         0.0498, 0.0496, 0.0496, 0.0497, 0.0498, 0.0503, 0.0503, 0.0000, 0.0499,\n",
       "         0.0000, 0.0000, 0.0000, 0.0499, 0.0000, 0.0503, 0.0503, 0.0503, 0.0000,\n",
       "         0.0000, 0.0000, 0.0000, 0.0497, 0.0000, 0.0000, 0.0503, 0.0503, 0.0502,\n",
       "         0.0000, 0.0000], grad_fn=<SqueezeBackward1>),\n",
       " tensor([0.0586, 0.0000, 0.0000, 0.0000, 0.0000, 0.0000, 0.0589, 0.0589, 0.0000,\n",
       "         0.0000, 0.0584, 0.0000, 0.0589, 0.0588, 0.0589, 0.0588, 0.0589, 0.0589,\n",
       "         0.0000, 0.0000, 0.0589, 0.0589, 0.0000, 0.0589, 0.0588, 0.0588, 0.0589,\n",
       "         0.0000, 0.0589], grad_fn=<SqueezeBackward1>),\n",
       " tensor([0.0706, 0.0000, 0.0000, 0.0000, 0.0715, 0.0715, 0.0715, 0.0715, 0.0000,\n",
       "         0.0710, 0.0000, 0.0716, 0.0715, 0.0000, 0.0000, 0.0000, 0.0000, 0.0715,\n",
       "         0.0715, 0.0715, 0.0715, 0.0715, 0.0716], grad_fn=<SqueezeBackward1>),\n",
       " tensor([0.0994, 0.0992, 0.0000, 0.1004, 0.0000, 0.0000, 0.0996, 0.0000, 0.1004,\n",
       "         0.1003, 0.1000, 0.0000, 0.0000, 0.1000, 0.0000, 0.1004, 0.0000, 0.0000,\n",
       "         0.1004, 0.0000], grad_fn=<SqueezeBackward1>),\n",
       " tensor([0.0658, 0.0000, 0.0000, 0.0000, 0.0660, 0.0000, 0.0668, 0.0668, 0.0000,\n",
       "         0.0000, 0.0668, 0.0000, 0.0000, 0.0668, 0.0668, 0.0668, 0.0000, 0.0663,\n",
       "         0.0000, 0.0000, 0.0668, 0.0668, 0.0668, 0.0000, 0.0000, 0.0668, 0.0668,\n",
       "         0.0668], grad_fn=<SqueezeBackward1>),\n",
       " tensor([0.0451, 0.0453, 0.0000, 0.0452, 0.0452, 0.0452, 0.0000, 0.0000, 0.0457,\n",
       "         0.0457, 0.0000, 0.0000, 0.0454, 0.0000, 0.0458, 0.0000, 0.0454, 0.0000,\n",
       "         0.0000, 0.0453, 0.0000, 0.0457, 0.0457, 0.0457, 0.0000, 0.0000, 0.0457,\n",
       "         0.0457, 0.0000, 0.0000, 0.0457, 0.0000, 0.0000, 0.0457, 0.0452, 0.0451,\n",
       "         0.0000, 0.0000, 0.0000, 0.0451, 0.0451], grad_fn=<SqueezeBackward1>),\n",
       " tensor([0.0525, 0.0000, 0.0529, 0.0529, 0.0529, 0.0000, 0.0524, 0.0000, 0.0000,\n",
       "         0.0000, 0.0529, 0.0529, 0.0000, 0.0525, 0.0000, 0.0529, 0.0529, 0.0529,\n",
       "         0.0529, 0.0529, 0.0000, 0.0000, 0.0000, 0.0524, 0.0523, 0.0000, 0.0523,\n",
       "         0.0524, 0.0000, 0.0523, 0.0523, 0.0000], grad_fn=<SqueezeBackward1>),\n",
       " tensor([0.0588, 0.0000, 0.0592, 0.0000, 0.0591, 0.0000, 0.0000, 0.0000, 0.0588,\n",
       "         0.0000, 0.0593, 0.0592, 0.0000, 0.0000, 0.0593, 0.0000, 0.0000, 0.0588,\n",
       "         0.0000, 0.0000, 0.0000, 0.0585, 0.0587, 0.0587, 0.0587, 0.0586, 0.0000,\n",
       "         0.0586, 0.0586, 0.0000, 0.0586, 0.0586], grad_fn=<SqueezeBackward1>),\n",
       " tensor([0.0000, 0.0000, 0.0000, 0.0000, 0.0767, 0.0000, 0.0767, 0.0000, 0.0771,\n",
       "         0.0000, 0.0000, 0.0771, 0.0000, 0.0000, 0.0000, 0.0763, 0.0000, 0.0764,\n",
       "         0.0000, 0.0771, 0.0771, 0.0771, 0.0000, 0.0000, 0.0771, 0.0771, 0.0771,\n",
       "         0.0000, 0.0000, 0.0771, 0.0000], grad_fn=<SqueezeBackward1>)]"
      ]
     },
     "execution_count": 15,
     "metadata": {},
     "output_type": "execute_result"
    }
   ],
   "source": [
    "p_add"
   ]
  }
 ],
 "metadata": {
  "kernelspec": {
   "display_name": "envMARS",
   "language": "python",
   "name": "envmars"
  },
  "language_info": {
   "codemirror_mode": {
    "name": "ipython",
    "version": 3
   },
   "file_extension": ".py",
   "mimetype": "text/x-python",
   "name": "python",
   "nbconvert_exporter": "python",
   "pygments_lexer": "ipython3",
   "version": "3.6.13"
  }
 },
 "nbformat": 4,
 "nbformat_minor": 4
}
